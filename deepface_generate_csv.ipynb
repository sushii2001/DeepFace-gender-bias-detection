{
 "cells": [
  {
   "cell_type": "markdown",
   "metadata": {},
   "source": [
    "# Deepface dataset CSV file generation\n",
    "\n",
    "- Creates a csv file for indexing across datasets "
   ]
  },
  {
   "cell_type": "markdown",
   "metadata": {},
   "source": [
    "### Import relevant libraries "
   ]
  },
  {
   "cell_type": "code",
   "execution_count": 5,
   "metadata": {},
   "outputs": [],
   "source": [
    "import os\n",
    "import pandas as pd\n",
    "import random as rd\n",
    "import ast\n",
    "import shutil"
   ]
  },
  {
   "cell_type": "markdown",
   "metadata": {},
   "source": [
    "# Define dataset to generate CSV files: "
   ]
  },
  {
   "cell_type": "code",
   "execution_count": 2,
   "metadata": {},
   "outputs": [],
   "source": [
    "# Define dataset to perform csv creation: \n",
    "dataset_name = \"LFW_gender\"\n",
    "\n",
    "# Define number of test instances for positive and negative tests \n",
    "# E.g. test_instances = 500, \n",
    "# positive and negative tests = 500 + 500 = 1000 instances\n",
    "# Male + Female = 1000 + 1000 = 2000 instances  \n",
    "test_instances = 500 "
   ]
  },
  {
   "cell_type": "markdown",
   "metadata": {},
   "source": [
    "## CSV file generation"
   ]
  },
  {
   "cell_type": "code",
   "execution_count": 15,
   "metadata": {},
   "outputs": [],
   "source": [
    "# generate pairs CSV file for the dataset\n",
    "def generate_pairs_csv(dataset_name, test_instances, resample_pairs=True):\n",
    "    dataset_dir = f\"../data/{dataset_name}\"\n",
    "    # create csv file folder directory if not exist\n",
    "    folder_dest_dir = f\"../data/deepface_{dataset_name}_csv\"\n",
    "    if not os.path.exists(folder_dest_dir):\n",
    "        os.makedirs(folder_dest_dir)\n",
    "\n",
    "    # create csv file if not exist\n",
    "    csv_dest_dir = f\"{folder_dest_dir}/pairs_{dataset_name}.csv\"\n",
    "    if not os.path.exists(csv_dest_dir) or resample_pairs:\n",
    "\n",
    "        # copy original dataset with gender split into deepface_data \n",
    "        copy_original_dataset_path = f\"../data/deepface_{dataset_name}/{dataset_name}\"\n",
    "        if not os.path.exists(copy_original_dataset_path):\n",
    "            os.makedirs(copy_original_dataset_path)\n",
    "            shutil.copytree(dataset_dir, copy_original_dataset_path, dirs_exist_ok=True)\n",
    "\n",
    "        # create csv header \n",
    "        with open(csv_dest_dir, \"w+\") as f:\n",
    "            f.write(\"test_case,imagenum1,imagenum2\\n\")\n",
    "\n",
    "    # iterate through the identity labels by gender \n",
    "    for gender in [\"Male\", \"Female\"]: \n",
    "        \n",
    "        # get all identity label images\n",
    "        identity_labels = os.listdir(f\"{dataset_dir}/{gender}\")\n",
    "\n",
    "        # write data into csv file \n",
    "        with open(csv_dest_dir, \"a\") as f:\n",
    "            for positive_case in [True, False]:\n",
    "                count = 0\n",
    "                while count < test_instances: \n",
    "                    # get random image from the identity label\n",
    "                    ran_identity = rd.choice(identity_labels)\n",
    "\n",
    "                    if positive_case: \n",
    "                        if len(os.listdir(f\"{dataset_dir}/{gender}/{ran_identity}\")) > 1: \n",
    "                            ran_images = rd.sample(os.listdir(f\"{dataset_dir}/{gender}/{ran_identity}\"), 2)\n",
    "                            f.write(f\"{positive_case},{ran_images[0]},{ran_images[1]}\\n\")\n",
    "                            count += 1\n",
    "\n",
    "                    else:\n",
    "                        ran_identity2 = rd.choice(identity_labels)\n",
    "                        while ran_identity2 == ran_identity:\n",
    "                            ran_identity2 = rd.choice(identity_labels)\n",
    "\n",
    "                        imagenum1 = rd.sample(os.listdir(f\"{dataset_dir}/{gender}/{ran_identity}\"), 1).pop()\n",
    "                        imagenum2 = rd.sample(os.listdir(f\"{dataset_dir}/{gender}/{ran_identity2}\"), 1).pop()\n",
    "                        f.write(f\"{positive_case},{imagenum1},{imagenum2}\\n\")\n",
    "                        count += 1"
   ]
  },
  {
   "cell_type": "code",
   "execution_count": 16,
   "metadata": {},
   "outputs": [],
   "source": [
    "generate_pairs_csv(dataset_name, test_instances)"
   ]
  }
 ],
 "metadata": {
  "kernelspec": {
   "display_name": "Python 3.8.13 ('DebFaceVE')",
   "language": "python",
   "name": "python3"
  },
  "language_info": {
   "codemirror_mode": {
    "name": "ipython",
    "version": 3
   },
   "file_extension": ".py",
   "mimetype": "text/x-python",
   "name": "python",
   "nbconvert_exporter": "python",
   "pygments_lexer": "ipython3",
   "version": "3.8.13"
  },
  "orig_nbformat": 4,
  "vscode": {
   "interpreter": {
    "hash": "8f031330156caa00168ac826fe526a1c0059725442cbbd6e604c9b1e073ad1f6"
   }
  }
 },
 "nbformat": 4,
 "nbformat_minor": 2
}
