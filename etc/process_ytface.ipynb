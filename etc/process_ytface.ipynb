{
 "cells": [
  {
   "cell_type": "markdown",
   "metadata": {},
   "source": [
    "# Pre-processing YTFace dataset (aligned images) to LFW format \n",
    "*  Youtube Faces DB can be found here: https://www.cs.tau.ac.il/~wolf/ytfaces/"
   ]
  },
  {
   "cell_type": "code",
   "execution_count": 5,
   "metadata": {},
   "outputs": [],
   "source": [
    "# Find out which identities found in YTFace belongs to LFW Dataset (and which does not) \n",
    "\n",
    "import os \n",
    "import shutil\n",
    "import pathlib"
   ]
  },
  {
   "cell_type": "code",
   "execution_count": 2,
   "metadata": {},
   "outputs": [],
   "source": [
    "YTFACE_DIR = \"../data/YTFACE_MINI\"\n",
    "NEW_YTFACE_DIR = \"../data/YTFace\"\n",
    "sub_folders = [name for name in os.listdir(YTFACE_DIR) if os.path.isdir(os.path.join(YTFACE_DIR, name))] # actual folders in LFW "
   ]
  },
  {
   "cell_type": "code",
   "execution_count": 3,
   "metadata": {},
   "outputs": [],
   "source": [
    "def get_sub_folder_names(directory):\n",
    "    return [name for name in os.listdir(directory) if os.path.isdir(os.path.join(directory, name))]\n",
    "\n",
    "def flatten(directory):\n",
    "    \"\"\"\n",
    "    Reference: https://amitd.co/code/python/flatten-a-directory\n",
    "    \"\"\"\n",
    "    for dirpath, _, filenames in os.walk(directory, topdown=False):\n",
    "        for filename in filenames:\n",
    "            i = 0 \n",
    "            source = os.path.join(dirpath, filename)\n",
    "            target = os.path.join(directory, filename)\n",
    "\n",
    "            while os.path.exists(target): # no duplicate names \n",
    "                i += 1\n",
    "                file_parts = os.path.splitext(os.path.basename(filename))\n",
    "                target = os.path.join(directory, file_parts[0] + \"_\" + str(i) + file_parts[1],)\n",
    "            \n",
    "            shutil.move(source, target) \n",
    "\n",
    "        if dirpath != directory:\n",
    "            os.rmdir(dirpath)"
   ]
  },
  {
   "cell_type": "code",
   "execution_count": 4,
   "metadata": {},
   "outputs": [],
   "source": [
    "# flatten each subfolders \n",
    "def flatten_subfolders(directory):\n",
    "    sub_folders = get_sub_folder_names(directory)\n",
    "    for folder in sub_folders:\n",
    "        subdir = os.path.join(directory, folder)\n",
    "        flatten(subdir)\n",
    "    \n",
    "flatten_subfolders(YTFACE_DIR)"
   ]
  },
  {
   "cell_type": "code",
   "execution_count": 7,
   "metadata": {},
   "outputs": [
    {
     "name": "stdout",
     "output_type": "stream",
     "text": [
      "aligned_detect_0.555.jpg\n",
      "..\\data\\YTFACE_MINI\\Aaron_Eckhart 0000 .jpg\n"
     ]
    },
    {
     "ename": "TypeError",
     "evalue": "unsupported operand type(s) for +: 'PureWindowsPath' and 'str'",
     "output_type": "error",
     "traceback": [
      "\u001b[1;31m---------------------------------------------------------------------------\u001b[0m",
      "\u001b[1;31mTypeError\u001b[0m                                 Traceback (most recent call last)",
      "\u001b[1;32m~\\AppData\\Local\\Temp/ipykernel_21224/692000691.py\u001b[0m in \u001b[0;36m<module>\u001b[1;34m\u001b[0m\n\u001b[0;32m     20\u001b[0m         \u001b[0mrename_imagefiles\u001b[0m\u001b[1;33m(\u001b[0m\u001b[0msubdir\u001b[0m\u001b[1;33m)\u001b[0m\u001b[1;33m\u001b[0m\u001b[1;33m\u001b[0m\u001b[0m\n\u001b[0;32m     21\u001b[0m \u001b[1;33m\u001b[0m\u001b[0m\n\u001b[1;32m---> 22\u001b[1;33m \u001b[0mrename_subfolders\u001b[0m\u001b[1;33m(\u001b[0m\u001b[0mYTFACE_DIR\u001b[0m\u001b[1;33m)\u001b[0m\u001b[1;33m\u001b[0m\u001b[1;33m\u001b[0m\u001b[0m\n\u001b[0m",
      "\u001b[1;32m~\\AppData\\Local\\Temp/ipykernel_21224/692000691.py\u001b[0m in \u001b[0;36mrename_subfolders\u001b[1;34m(directory)\u001b[0m\n\u001b[0;32m     18\u001b[0m     \u001b[1;32mfor\u001b[0m \u001b[0mfolder\u001b[0m \u001b[1;32min\u001b[0m \u001b[0msub_folders\u001b[0m\u001b[1;33m:\u001b[0m\u001b[1;33m\u001b[0m\u001b[1;33m\u001b[0m\u001b[0m\n\u001b[0;32m     19\u001b[0m         \u001b[0msubdir\u001b[0m \u001b[1;33m=\u001b[0m \u001b[0mos\u001b[0m\u001b[1;33m.\u001b[0m\u001b[0mpath\u001b[0m\u001b[1;33m.\u001b[0m\u001b[0mjoin\u001b[0m\u001b[1;33m(\u001b[0m\u001b[0mdirectory\u001b[0m\u001b[1;33m,\u001b[0m \u001b[0mfolder\u001b[0m\u001b[1;33m)\u001b[0m\u001b[1;33m\u001b[0m\u001b[1;33m\u001b[0m\u001b[0m\n\u001b[1;32m---> 20\u001b[1;33m         \u001b[0mrename_imagefiles\u001b[0m\u001b[1;33m(\u001b[0m\u001b[0msubdir\u001b[0m\u001b[1;33m)\u001b[0m\u001b[1;33m\u001b[0m\u001b[1;33m\u001b[0m\u001b[0m\n\u001b[0m\u001b[0;32m     21\u001b[0m \u001b[1;33m\u001b[0m\u001b[0m\n\u001b[0;32m     22\u001b[0m \u001b[0mrename_subfolders\u001b[0m\u001b[1;33m(\u001b[0m\u001b[0mYTFACE_DIR\u001b[0m\u001b[1;33m)\u001b[0m\u001b[1;33m\u001b[0m\u001b[1;33m\u001b[0m\u001b[0m\n",
      "\u001b[1;32m~\\AppData\\Local\\Temp/ipykernel_21224/692000691.py\u001b[0m in \u001b[0;36mrename_imagefiles\u001b[1;34m(directory)\u001b[0m\n\u001b[0;32m     11\u001b[0m         \u001b[0mextension\u001b[0m \u001b[1;33m=\u001b[0m \u001b[0mpathlib\u001b[0m\u001b[1;33m.\u001b[0m\u001b[0mPath\u001b[0m\u001b[1;33m(\u001b[0m\u001b[0mfilename\u001b[0m\u001b[1;33m)\u001b[0m\u001b[1;33m.\u001b[0m\u001b[0msuffix\u001b[0m\u001b[1;33m\u001b[0m\u001b[1;33m\u001b[0m\u001b[0m\n\u001b[0;32m     12\u001b[0m         \u001b[0mprint\u001b[0m\u001b[1;33m(\u001b[0m\u001b[0mperson_name\u001b[0m\u001b[1;33m,\u001b[0m \u001b[0msuffix\u001b[0m\u001b[1;33m,\u001b[0m \u001b[0mextension\u001b[0m\u001b[1;33m)\u001b[0m\u001b[1;33m\u001b[0m\u001b[1;33m\u001b[0m\u001b[0m\n\u001b[1;32m---> 13\u001b[1;33m         \u001b[0moutput\u001b[0m \u001b[1;33m=\u001b[0m \u001b[0mos\u001b[0m\u001b[1;33m.\u001b[0m\u001b[0mrename\u001b[0m\u001b[1;33m(\u001b[0m\u001b[0minfilename\u001b[0m\u001b[1;33m,\u001b[0m\u001b[0mperson_name\u001b[0m \u001b[1;33m+\u001b[0m \u001b[0msuffix\u001b[0m \u001b[1;33m+\u001b[0m \u001b[0mextension\u001b[0m\u001b[1;33m)\u001b[0m\u001b[1;33m\u001b[0m\u001b[1;33m\u001b[0m\u001b[0m\n\u001b[0m\u001b[0;32m     14\u001b[0m         \u001b[0mprint\u001b[0m\u001b[1;33m(\u001b[0m\u001b[0moutput\u001b[0m\u001b[1;33m)\u001b[0m\u001b[1;33m\u001b[0m\u001b[1;33m\u001b[0m\u001b[0m\n\u001b[0;32m     15\u001b[0m \u001b[1;33m\u001b[0m\u001b[0m\n",
      "\u001b[1;31mTypeError\u001b[0m: unsupported operand type(s) for +: 'PureWindowsPath' and 'str'"
     ]
    }
   ],
   "source": [
    "def rename_imagefiles(directory):\n",
    "    \"\"\"\n",
    "    Make sure folder ONLY contains image files \n",
    "    \"\"\"\n",
    "    for i, filename in enumerate(os.listdir(directory)):\n",
    "        print(filename)\n",
    "        infilename = os.path.join(directory, filename)\n",
    "        if not os.path.isfile(infilename): continue # ignore non-files \n",
    "        person_name = os.path.basename(os.path.normpath(directory))\n",
    "        suffix = str(i+1).zfill(4)\n",
    "        extension = pathlib.Path(filename).suffix\n",
    "        print(person_name, suffix, extension)\n",
    "        output = os.rename(infilename,person_name + suffix + extension)\n",
    "        print(output)\n",
    "    \n",
    "def rename_subfolders(directory):\n",
    "    sub_folders = get_sub_folder_names(directory)\n",
    "    for folder in sub_folders:\n",
    "        subdir = os.path.join(directory, folder)\n",
    "        rename_imagefiles(subdir)\n",
    "    \n",
    "rename_subfolders(YTFACE_DIR)"
   ]
  }
 ],
 "metadata": {
  "kernelspec": {
   "display_name": "Python 3.9.2 64-bit",
   "language": "python",
   "name": "python3"
  },
  "language_info": {
   "codemirror_mode": {
    "name": "ipython",
    "version": 3
   },
   "file_extension": ".py",
   "mimetype": "text/x-python",
   "name": "python",
   "nbconvert_exporter": "python",
   "pygments_lexer": "ipython3",
   "version": "3.9.2"
  },
  "orig_nbformat": 4,
  "vscode": {
   "interpreter": {
    "hash": "23cd0e73697d7ddace4d9bfed18c15e12ccc805cdfdac8fe99cfdf67dd1f74d2"
   }
  }
 },
 "nbformat": 4,
 "nbformat_minor": 2
}
