{
 "cells": [
  {
   "attachments": {},
   "cell_type": "markdown",
   "metadata": {},
   "source": []
  },
  {
   "cell_type": "code",
   "execution_count": 18,
   "metadata": {},
   "outputs": [],
   "source": [
    "import os \n",
    "from os import listdir\n",
    "from os.path import isfile, join\n",
    "import shutil"
   ]
  },
  {
   "cell_type": "code",
   "execution_count": 14,
   "metadata": {},
   "outputs": [],
   "source": [
    "AGE_DB_DIR = \"../data/AgeDB\"\n",
    "NEW_DIR = \"../data/AgeDB_processed\""
   ]
  },
  {
   "cell_type": "code",
   "execution_count": 12,
   "metadata": {},
   "outputs": [],
   "source": [
    "filenames = [name for name in os.listdir(AGE_DB_DIR)]\n",
    "image_names = [os.path.splitext(f)[0].split(\"_\") for f in filenames]\n",
    "metadata = dict()\n",
    "\n",
    "for i, filename in enumerate(filenames):\n",
    "    info = dict(name=image_names[i][1], age=image_names[i][2])\n",
    "    info[\"isMale\"] = True if image_names[i][3] == \"m\" else False \n",
    "    metadata[filename] = info"
   ]
  },
  {
   "cell_type": "code",
   "execution_count": 17,
   "metadata": {},
   "outputs": [],
   "source": [
    "# initialise folders \n",
    "directories = [NEW_DIR, os.path.join(NEW_DIR,\"Female\"), os.path.join(NEW_DIR,\"Male\")]\n",
    "for d in directories:\n",
    "    if not os.path.exists(d):\n",
    "        os.makedirs(d)"
   ]
  },
  {
   "cell_type": "code",
   "execution_count": 20,
   "metadata": {},
   "outputs": [],
   "source": [
    "def split_gender():\n",
    "    for filename in metadata:\n",
    "        gender = \"Male\" if metadata[filename][\"isMale\"] else \"Female\"\n",
    "        image_path = os.path.join(NEW_DIR,gender,metadata[filename][\"name\"])\n",
    "        if not os.path.exists(image_path):\n",
    "            os.makedirs(image_path)\n",
    "\n",
    "        # copy file from original folder to correct gender folder \n",
    "        shutil.copy(os.path.join(AGE_DB_DIR,filename),image_path)\n",
    "\n",
    "split_gender()"
   ]
  }
 ],
 "metadata": {
  "kernelspec": {
   "display_name": "Python 3",
   "language": "python",
   "name": "python3"
  },
  "language_info": {
   "codemirror_mode": {
    "name": "ipython",
    "version": 3
   },
   "file_extension": ".py",
   "mimetype": "text/x-python",
   "name": "python",
   "nbconvert_exporter": "python",
   "pygments_lexer": "ipython3",
   "version": "3.9.2"
  },
  "orig_nbformat": 4,
  "vscode": {
   "interpreter": {
    "hash": "23cd0e73697d7ddace4d9bfed18c15e12ccc805cdfdac8fe99cfdf67dd1f74d2"
   }
  }
 },
 "nbformat": 4,
 "nbformat_minor": 2
}
