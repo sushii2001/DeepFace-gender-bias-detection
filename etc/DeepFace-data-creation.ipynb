{
 "cells": [
  {
   "cell_type": "markdown",
   "metadata": {},
   "source": [
    "## 10-fold cross-validation sampled from  LFW perturbed data  "
   ]
  },
  {
   "cell_type": "markdown",
   "metadata": {},
   "source": [
    "### Import relevant libraries "
   ]
  },
  {
   "cell_type": "code",
   "execution_count": 56,
   "metadata": {},
   "outputs": [],
   "source": [
    "import os\n",
    "import pandas as pd\n",
    "import random as rd\n",
    "import ast"
   ]
  },
  {
   "cell_type": "markdown",
   "metadata": {},
   "source": [
    "# Read Perturbed LFW data:"
   ]
  },
  {
   "cell_type": "code",
   "execution_count": 117,
   "metadata": {},
   "outputs": [],
   "source": [
    "# PERTURBED DATA: \n",
    "# Read male\n",
    "full_perturbed_male_names = pd.read_csv('../DeepFace-gender-bias-detection/data/LFW-csv/full_perturbed_male.csv')\n",
    "\n",
    "# Read female\n",
    "full_perturbed_female_names = pd.read_csv('../DeepFace-gender-bias-detection/data/LFW-csv/full_perturbed_female.csv')\n",
    "\n",
    "# Read final benchmark csv\n",
    "benchmark_deepface_df = pd.read_csv('../DeepFace-gender-bias-detection/data/LFW-csv/pairs_benchmark_deepface.csv')"
   ]
  },
  {
   "cell_type": "code",
   "execution_count": 115,
   "metadata": {},
   "outputs": [],
   "source": [
    "def sample_pair_images(perturbed_gender_names, old_df, test_case, output_file):\n",
    "    \n",
    "    # loop thru the perturbed names\n",
    "    for index, row in perturbed_gender_names.iterrows():\n",
    "\n",
    "        # convert string list to list\n",
    "        images = ast.literal_eval(row[1]).pop()\n",
    "\n",
    "        # Positive case: Match 2 images from the same person \n",
    "        if test_case and len(images) > 1:\n",
    "            # random sample 2 images\n",
    "            rd.seed(1)\n",
    "            samples = rd.sample(images, 2)\n",
    "\n",
    "            # assign images \n",
    "            imagenum1 = samples[0]\n",
    "            imagenum2 = samples[1]\n",
    "\n",
    "        # Negative case: Match 2 images from different persons \n",
    "        elif not test_case:\n",
    "            # random sample 1 images\n",
    "            rd.seed(1)\n",
    "            imagenum1 = rd.sample(images, 1).pop()\n",
    "            imagenum2 = imagenum1\n",
    "\n",
    "            # random sample another image\n",
    "            while imagenum2 == imagenum1:\n",
    "                sample = rd.randint(0, len(full_perturbed_male_names))\n",
    "                sample_images = ast.literal_eval(full_perturbed_male_names.iloc[sample , 1]).pop()\n",
    "                imagenum2 = rd.sample(sample_images, 1).pop()\n",
    "        else:\n",
    "            continue\n",
    "        \n",
    "        # store into dictionary and convert to dataframe\n",
    "        perturbed_df = {\"test_case\": test_case, \"imagenum1\": imagenum1, \"imagenum2\": imagenum2}\n",
    "        new_df = pd.DataFrame([perturbed_df])\n",
    "\n",
    "        # merge both current csv + new perturbed data\n",
    "        frames = [old_df, new_df]\n",
    "        new_merge_df = pd.concat(frames)\n",
    "\n",
    "        # reset index\n",
    "        new_merge_df = new_merge_df.reset_index()\n",
    "        new_merge_df.drop(columns=['index'], inplace=True)\n",
    "        \n",
    "        # Write results to csv file\n",
    "        new_merge_df.to_csv(f\"{output_file}\", index=False)\n",
    "        old_df = pd.read_csv(f\"{output_file}\")  \n",
    "\n",
    "        # Exit on 500 images added:\n",
    "        if len(old_df) % 500 == 0:\n",
    "            break"
   ]
  },
  {
   "cell_type": "code",
   "execution_count": 118,
   "metadata": {},
   "outputs": [],
   "source": [
    "# Sample 500 positive matches  \n",
    "# sample_pair_images(full_perturbed_male_names, benchmark_deepface_df, True, '../DeepFace-gender-bias-detection/data/LFW-csv/pairs_benchmark_deepface.csv')\n",
    "# sample_pair_images(full_perturbed_female_names, benchmark_deepface_df, True, '../DeepFace-gender-bias-detection/data/LFW-csv/pairs_benc hmark_deepface.csv')\n",
    "\n",
    "\n",
    "# Sample 500 negative matches \n",
    "# sample_pair_images(full_perturbed_male_names, benchmark_deepface_df, False, '../DeepFace-gender-bias-detection/data/LFW-csv/pairs_benchmark_deepface.csv')\n",
    "# sample_pair_images(full_perturbed_female_names, benchmark_deepface_df, False, '../DeepFace-gender-bias-detection/data/LFW-csv/pairs_benchmark_deepface.csv')"
   ]
  }
 ],
 "metadata": {
  "kernelspec": {
   "display_name": "Python 3.8.13 ('DebFaceVE')",
   "language": "python",
   "name": "python3"
  },
  "language_info": {
   "codemirror_mode": {
    "name": "ipython",
    "version": 3
   },
   "file_extension": ".py",
   "mimetype": "text/x-python",
   "name": "python",
   "nbconvert_exporter": "python",
   "pygments_lexer": "ipython3",
   "version": "3.8.13"
  },
  "orig_nbformat": 4,
  "vscode": {
   "interpreter": {
    "hash": "8f031330156caa00168ac826fe526a1c0059725442cbbd6e604c9b1e073ad1f6"
   }
  }
 },
 "nbformat": 4,
 "nbformat_minor": 2
}
