{
 "cells": [
  {
   "cell_type": "code",
   "execution_count": 24,
   "metadata": {},
   "outputs": [],
   "source": [
    "# !pip install deepface\n",
    "from deepface import DeepFace\n",
    "\n",
    "import matplotlib.pyplot as plt\n",
    "import pandas as pd \n",
    "import csv\n",
    "\n",
    "params = {\"ytick.color\" : \"w\",\n",
    "          \"xtick.color\" : \"w\",\n",
    "          \"axes.labelcolor\" : \"w\",\n",
    "          \"axes.edgecolor\" : \"w\"}\n",
    "plt.rcParams.update(params)\n",
    "\n",
    "result_df = pd.read_csv('./result/result_debface.csv')"
   ]
  },
  {
   "cell_type": "code",
   "execution_count": 25,
   "metadata": {},
   "outputs": [
    {
     "data": {
      "text/html": [
       "<div>\n",
       "<style scoped>\n",
       "    .dataframe tbody tr th:only-of-type {\n",
       "        vertical-align: middle;\n",
       "    }\n",
       "\n",
       "    .dataframe tbody tr th {\n",
       "        vertical-align: top;\n",
       "    }\n",
       "\n",
       "    .dataframe thead th {\n",
       "        text-align: right;\n",
       "    }\n",
       "</style>\n",
       "<table border=\"1\" class=\"dataframe\">\n",
       "  <thead>\n",
       "    <tr style=\"text-align: right;\">\n",
       "      <th></th>\n",
       "      <th>Dataset</th>\n",
       "      <th>Gender</th>\n",
       "      <th>Age</th>\n",
       "      <th>Accuracy</th>\n",
       "      <th>Total Images</th>\n",
       "      <th>Undetected</th>\n",
       "    </tr>\n",
       "  </thead>\n",
       "  <tbody>\n",
       "    <tr>\n",
       "      <th>0</th>\n",
       "      <td>UTKFace</td>\n",
       "      <td>Woman</td>\n",
       "      <td>30</td>\n",
       "      <td>51.0</td>\n",
       "      <td>243</td>\n",
       "      <td>0</td>\n",
       "    </tr>\n",
       "  </tbody>\n",
       "</table>\n",
       "</div>"
      ],
      "text/plain": [
       "   Dataset Gender  Age  Accuracy  Total Images  Undetected\n",
       "0  UTKFace  Woman   30      51.0           243           0"
      ]
     },
     "execution_count": 25,
     "metadata": {},
     "output_type": "execute_result"
    }
   ],
   "source": [
    "result_df"
   ]
  },
  {
   "cell_type": "code",
   "execution_count": 6,
   "metadata": {},
   "outputs": [],
   "source": [
    "# Select a desired model\n",
    "models = [\"VGG-Face\", \"Facenet\", \"Facenet512\", \"OpenFace\", \"DeepFace\", \"DeepID\", \"ArcFace\", \"Dlib\", \"SFace\"]\n",
    "model_used = \"ArcFace\""
   ]
  },
  {
   "cell_type": "code",
   "execution_count": 37,
   "metadata": {},
   "outputs": [],
   "source": [
    "# Image selection\n",
    "dataset_dir = \"AFAD/AFAD-new\"\n",
    "# dataset_dir = \"UTKFace\"\n",
    "\n",
    "# Age\n",
    "age = 41\n",
    "\n",
    "# Man, Woman\n",
    "gender = \"Woman\""
   ]
  },
  {
   "cell_type": "code",
   "execution_count": 33,
   "metadata": {},
   "outputs": [],
   "source": [
    "def deepface_get_accuracy(dataset, age, gender, model):\n",
    "    \n",
    "    # set path to images based on age and gender\n",
    "    path = \"../../../../Monash/C2001-Y3/sem1/FIT3163/others/Assignment/Project-DebFace/DebFace/datasets\"\n",
    "\n",
    "    # AFAD\n",
    "    if dataset == \"AFAD/AFAD-new\":\n",
    "        gender_index = 0\n",
    "        if gender == \"Man\":\n",
    "            gender_index = 111\n",
    "        elif gender == \"Woman\":\n",
    "            gender_index = 112\n",
    "\n",
    "        path = f\"{path}/{dataset}/{str(age)}/{str(gender_index)}\"   \n",
    "\n",
    "    # UTKFace:\n",
    "    elif dataset == \"UTKFace\":\n",
    "        path = f\"{path}/{dataset}/{gender}/{str(age)}\"   \n",
    "\n",
    "    images_array = os.listdir(path)\n",
    "    total_images = len(images_array)\n",
    "\n",
    "    res = 0\n",
    "    undetected = 0\n",
    "    result_analysis = []\n",
    "\n",
    "    # Analyse each image with for loop\n",
    "    for img in images_array:\n",
    "        path_img = f\"{path}/{img}\"\n",
    "\n",
    "        # Image analysis of age and gender \n",
    "        try:\n",
    "            obj = DeepFace.analyze(img_path = path_img, actions = ['gender'], enforce_detection=False)\n",
    "            result_analysis.append({'image': img, 'Gender': obj['gender']})\n",
    "            if obj['gender'] == 'Man' and gender == \"Man\":\n",
    "                res += 1\n",
    "            elif obj['gender'] == 'Woman' and gender == \"Woman\":\n",
    "                res += 1\n",
    "                \n",
    "        except ValueError:\n",
    "            undetected += 1\n",
    "\n",
    "    # calculate accuracy\n",
    "    acc = round(res/(total_images-undetected), 2) * 100\n",
    "    \n",
    "    return result_analysis, {'Dataset': dataset, 'Gender': gender, 'Age':age, 'Accuracy': acc, 'Total Images': total_images, 'Undetected': undetected}"
   ]
  },
  {
   "cell_type": "code",
   "execution_count": 38,
   "metadata": {},
   "outputs": [
    {
     "name": "stdout",
     "output_type": "stream",
     "text": [
      "1/1 [==============================] - 0s 277ms/step\n",
      "1/1 [==============================] - 0s 217ms/step\n",
      "1/1 [==============================] - 0s 227ms/step\n",
      "1/1 [==============================] - 0s 285ms/step\n",
      "1/1 [==============================] - 0s 218ms/step\n",
      "1/1 [==============================] - 0s 219ms/step\n",
      "1/1 [==============================] - 0s 228ms/step\n",
      "1/1 [==============================] - 0s 214ms/step\n",
      "1/1 [==============================] - 0s 220ms/step\n",
      "1/1 [==============================] - 0s 224ms/step\n",
      "1/1 [==============================] - 0s 226ms/step\n",
      "1/1 [==============================] - 0s 250ms/step\n",
      "1/1 [==============================] - 0s 260ms/step\n",
      "1/1 [==============================] - 0s 236ms/step\n",
      "1/1 [==============================] - 0s 247ms/step\n",
      "1/1 [==============================] - 0s 273ms/step\n",
      "1/1 [==============================] - 0s 234ms/step\n",
      "1/1 [==============================] - 0s 237ms/step\n",
      "1/1 [==============================] - 0s 244ms/step\n",
      "1/1 [==============================] - 0s 233ms/step\n",
      "1/1 [==============================] - 0s 234ms/step\n",
      "1/1 [==============================] - 0s 227ms/step\n",
      "1/1 [==============================] - 0s 238ms/step\n",
      "1/1 [==============================] - 0s 239ms/step\n",
      "1/1 [==============================] - 0s 270ms/step\n"
     ]
    }
   ],
   "source": [
    "# Execute Deepface\n",
    "result_analysis, result_acc = deepface_get_accuracy(dataset_dir, age, gender, model_used)"
   ]
  },
  {
   "cell_type": "code",
   "execution_count": 39,
   "metadata": {},
   "outputs": [
    {
     "name": "stdout",
     "output_type": "stream",
     "text": [
      "Total images correctly classified: 10        \n",
      "Total images incorrectly classified: 15\n"
     ]
    }
   ],
   "source": [
    "TRUTH = \"Woman\"\n",
    "\n",
    "correctly_classified = []\n",
    "incorrectly_classified = []\n",
    "\n",
    "for res in result_analysis:\n",
    "    if res[\"Gender\"] == TRUTH:\n",
    "        correctly_classified.append(res)\n",
    "    else:\n",
    "        incorrectly_classified.append(res)\n",
    "\n",
    "print(f\"Total images correctly classified: {len(correctly_classified)}\\\n",
    "        \\nTotal images incorrectly classified: {len(incorrectly_classified)}\")"
   ]
  },
  {
   "cell_type": "code",
   "execution_count": 40,
   "metadata": {},
   "outputs": [
    {
     "data": {
      "text/html": [
       "<div>\n",
       "<style scoped>\n",
       "    .dataframe tbody tr th:only-of-type {\n",
       "        vertical-align: middle;\n",
       "    }\n",
       "\n",
       "    .dataframe tbody tr th {\n",
       "        vertical-align: top;\n",
       "    }\n",
       "\n",
       "    .dataframe thead th {\n",
       "        text-align: right;\n",
       "    }\n",
       "</style>\n",
       "<table border=\"1\" class=\"dataframe\">\n",
       "  <thead>\n",
       "    <tr style=\"text-align: right;\">\n",
       "      <th></th>\n",
       "      <th>Dataset</th>\n",
       "      <th>Gender</th>\n",
       "      <th>Age</th>\n",
       "      <th>Accuracy</th>\n",
       "      <th>Total Images</th>\n",
       "      <th>Undetected</th>\n",
       "    </tr>\n",
       "  </thead>\n",
       "  <tbody>\n",
       "    <tr>\n",
       "      <th>0</th>\n",
       "      <td>UTKFace</td>\n",
       "      <td>Woman</td>\n",
       "      <td>30</td>\n",
       "      <td>51.0</td>\n",
       "      <td>243</td>\n",
       "      <td>0</td>\n",
       "    </tr>\n",
       "    <tr>\n",
       "      <th>1</th>\n",
       "      <td>UTKFace</td>\n",
       "      <td>Man</td>\n",
       "      <td>30</td>\n",
       "      <td>99.0</td>\n",
       "      <td>347</td>\n",
       "      <td>0</td>\n",
       "    </tr>\n",
       "    <tr>\n",
       "      <th>2</th>\n",
       "      <td>AFAD/AFAD-new</td>\n",
       "      <td>Man</td>\n",
       "      <td>41</td>\n",
       "      <td>100.0</td>\n",
       "      <td>89</td>\n",
       "      <td>0</td>\n",
       "    </tr>\n",
       "    <tr>\n",
       "      <th>3</th>\n",
       "      <td>AFAD/AFAD-new</td>\n",
       "      <td>Woman</td>\n",
       "      <td>41</td>\n",
       "      <td>40.0</td>\n",
       "      <td>25</td>\n",
       "      <td>0</td>\n",
       "    </tr>\n",
       "  </tbody>\n",
       "</table>\n",
       "</div>"
      ],
      "text/plain": [
       "         Dataset Gender  Age  Accuracy  Total Images  Undetected\n",
       "0        UTKFace  Woman   30      51.0           243           0\n",
       "1        UTKFace    Man   30      99.0           347           0\n",
       "2  AFAD/AFAD-new    Man   41     100.0            89           0\n",
       "3  AFAD/AFAD-new  Woman   41      40.0            25           0"
      ]
     },
     "execution_count": 40,
     "metadata": {},
     "output_type": "execute_result"
    }
   ],
   "source": [
    "result_df_new = pd.DataFrame([result_acc])\n",
    "\n",
    "frames = [result_df, result_df_new]\n",
    "result_df = pd.concat(frames)\n",
    "\n",
    "result_df = result_df.reset_index()\n",
    "result_df.drop(columns=['index'], inplace=True)\n",
    "result_df"
   ]
  },
  {
   "cell_type": "code",
   "execution_count": 31,
   "metadata": {},
   "outputs": [],
   "source": [
    "# Write results to csv file\n",
    "result_df.to_csv(\"./result/result_debface.csv\", index=False)"
   ]
  }
 ],
 "metadata": {
  "kernelspec": {
   "display_name": "Python 3.8.13 ('DebFaceVE')",
   "language": "python",
   "name": "python3"
  },
  "language_info": {
   "codemirror_mode": {
    "name": "ipython",
    "version": 3
   },
   "file_extension": ".py",
   "mimetype": "text/x-python",
   "name": "python",
   "nbconvert_exporter": "python",
   "pygments_lexer": "ipython3",
   "version": "3.8.13"
  },
  "orig_nbformat": 4,
  "vscode": {
   "interpreter": {
    "hash": "8f031330156caa00168ac826fe526a1c0059725442cbbd6e604c9b1e073ad1f6"
   }
  }
 },
 "nbformat": 4,
 "nbformat_minor": 2
}
