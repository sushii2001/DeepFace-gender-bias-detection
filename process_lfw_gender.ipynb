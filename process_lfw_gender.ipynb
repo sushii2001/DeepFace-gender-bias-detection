{
 "cells": [
  {
   "cell_type": "markdown",
   "metadata": {},
   "source": [
    "# Organising LFW Dataset into Male and Female \n",
    "*  https://www.dropbox.com/sh/l3ezp9qyy5hid80/AAAjK6HdDScd_1rXASlsmELla?dl=0 (manual labels for the gender)\n",
    "* Process original LFW dataset into 2 folders (female, male) - each contains images of people from LFW.\n",
    "* `.jpg` has been manually added to `Allison_Searing_0001` in `female_names.txt` \n",
    "* Duplicate names happen in both male and female text files, these names have been manually inspected, all found to be female, therefore removed from male list.\n",
    "* \"Tara_Kirk\" has been manually added to the females name text file because it does not contain her initially."
   ]
  },
  {
   "cell_type": "code",
   "execution_count": 130,
   "metadata": {},
   "outputs": [],
   "source": [
    "import os\n",
    "from os import listdir\n",
    "from os.path import isfile, join\n",
    "from distutils.dir_util import copy_tree # for copying whole folder to another directory\n",
    "import shutil\n"
   ]
  },
  {
   "cell_type": "markdown",
   "metadata": {},
   "source": [
    "* text file contains lines of images in `\\[name]_\\[0000].jpg` format\n",
    "* will process into sets of unique identities by ignoring the `_0000.jpg` at the back "
   ]
  },
  {
   "cell_type": "code",
   "execution_count": 131,
   "metadata": {},
   "outputs": [],
   "source": [
    "def process_manual_labels(filename):\n",
    "    with open(filename) as f:\n",
    "        lines = [line[:-10] for line in f if len(line[:-10]) > 0] \n",
    "    \n",
    "    lines = set(lines) # remove duplicates if any \n",
    "\n",
    "    return lines "
   ]
  },
  {
   "cell_type": "code",
   "execution_count": 132,
   "metadata": {},
   "outputs": [],
   "source": [
    "LFW_DIR = \"data/LFW/\"\n",
    "NEW_LFW_DIR = 'data/LFW_gender/'\n",
    "sub_folders = [name for name in os.listdir(LFW_DIR) if os.path.isdir(os.path.join(LFW_DIR, name))] # actual folders in LFW \n",
    "\n",
    "male_names = process_manual_labels(\"male_names.txt\")\n",
    "female_names = process_manual_labels(\"female_names.txt\")\n",
    "\n",
    "# handle duplicates (theyre all female actually)\n",
    "female_names_in_male = female_names.intersection(male_names)\n",
    "male_names = male_names - female_names_in_male\n",
    "\n",
    "assert len(sub_folders) == len(male_names) + len(female_names), f\"The number of people in actual LFW dataset is not the same as total people from the gender text files! {len(sub_folders)} != {len(male_names) + len(female_names)}\"\n",
    "\n"
   ]
  },
  {
   "cell_type": "code",
   "execution_count": 133,
   "metadata": {},
   "outputs": [
    {
     "name": "stdout",
     "output_type": "stream",
     "text": [
      "5749\n"
     ]
    }
   ],
   "source": [
    "LFW_DIR = \"data/LFW/\"\n",
    "NEW_LFW_DIR = 'data/LFW_gender/'\n",
    "sub_folders = [name for name in os.listdir(LFW_DIR) if os.path.isdir(os.path.join(LFW_DIR, name))]\n",
    "\n",
    "print(len(sub_folders))"
   ]
  },
  {
   "cell_type": "code",
   "execution_count": 134,
   "metadata": {},
   "outputs": [],
   "source": [
    "def purge_lfw_gender():\n",
    "    shutil.rmtree(os.path.join(NEW_LFW_DIR+\"Female\"))\n",
    "    shutil.rmtree(os.path.join(NEW_LFW_DIR+\"Male\"))\n",
    "    os.mkdir(os.path.join(NEW_LFW_DIR+\"Female\"))\n",
    "    os.mkdir(os.path.join(NEW_LFW_DIR+\"Male\"))"
   ]
  },
  {
   "cell_type": "code",
   "execution_count": 135,
   "metadata": {},
   "outputs": [],
   "source": [
    "def copy_to_new_labelled_folder(names, isMale=True):\n",
    "    not_found = []\n",
    "    found = [] \n",
    "    for name in names:\n",
    "        person_folder_path = LFW_DIR + name\n",
    "        \n",
    "        # checking if folder of person is empty (dont exist)\n",
    "        person_images = [f for f in listdir(person_folder_path) if isfile(join(person_folder_path, f))]\n",
    "        if len(person_images) < 1:\n",
    "            not_found.append(name) \n",
    "        \n",
    "        else:\n",
    "            # copy whole folder to new folder \n",
    "            gender_path = \"Male/\" if isMale else \"Female/\"\n",
    "            new_path = NEW_LFW_DIR + gender_path + name\n",
    "            os.mkdir(new_path)\n",
    "            copy_tree(src=person_folder_path, dst=new_path)\n",
    "            found.append(name)\n",
    "    \n",
    "    return found, not_found"
   ]
  },
  {
   "cell_type": "code",
   "execution_count": 136,
   "metadata": {},
   "outputs": [],
   "source": [
    "purge_lfw_gender()\n",
    "found, not_found = copy_to_new_labelled_folder(male_names) "
   ]
  },
  {
   "cell_type": "code",
   "execution_count": 137,
   "metadata": {},
   "outputs": [],
   "source": [
    "female_found, female_not_found = copy_to_new_labelled_folder(female_names, isMale=False)"
   ]
  },
  {
   "cell_type": "code",
   "execution_count": 138,
   "metadata": {},
   "outputs": [
    {
     "name": "stdout",
     "output_type": "stream",
     "text": [
      "[]\n",
      "[]\n"
     ]
    }
   ],
   "source": [
    "print(not_found)\n",
    "print(female_not_found)"
   ]
  },
  {
   "cell_type": "code",
   "execution_count": 139,
   "metadata": {},
   "outputs": [],
   "source": [
    "# check if the newly copied folders in LFW_Gender are all there"
   ]
  },
  {
   "cell_type": "markdown",
   "metadata": {},
   "source": []
  }
 ],
 "metadata": {
  "kernelspec": {
   "display_name": "Python 3.9.2 64-bit",
   "language": "python",
   "name": "python3"
  },
  "language_info": {
   "codemirror_mode": {
    "name": "ipython",
    "version": 3
   },
   "file_extension": ".py",
   "mimetype": "text/x-python",
   "name": "python",
   "nbconvert_exporter": "python",
   "pygments_lexer": "ipython3",
   "version": "3.9.2"
  },
  "orig_nbformat": 4,
  "vscode": {
   "interpreter": {
    "hash": "23cd0e73697d7ddace4d9bfed18c15e12ccc805cdfdac8fe99cfdf67dd1f74d2"
   }
  }
 },
 "nbformat": 4,
 "nbformat_minor": 2
}
