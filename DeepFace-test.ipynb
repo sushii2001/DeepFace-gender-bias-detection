{
 "cells": [
  {
   "cell_type": "markdown",
   "metadata": {},
   "source": [
    "# Deepface Face Verification test "
   ]
  },
  {
   "cell_type": "markdown",
   "metadata": {},
   "source": [
    "### Import relevant libraries:"
   ]
  },
  {
   "cell_type": "code",
   "execution_count": 1,
   "metadata": {},
   "outputs": [],
   "source": [
    "# !pip install deepface\n",
    "from deepface import DeepFace\n",
    "\n",
    "import matplotlib.pyplot as plt\n",
    "import pandas as pd                 \n",
    "import regex as re\n",
    "\n",
    "import os\n",
    "\n",
    "# change plot output to white\n",
    "params = {\"ytick.color\" : \"w\",\n",
    "          \"xtick.color\" : \"w\",\n",
    "          \"axes.labelcolor\" : \"w\",\n",
    "          \"axes.edgecolor\" : \"w\"}\n",
    "plt.rcParams.update(params)\n",
    "\n",
    "result_df = pd.read_csv('./result/result_debface.csv')\n",
    "benchmark_df = pd.read_csv('./data/LFW-csv/pairs.csv')"
   ]
  },
  {
   "cell_type": "code",
   "execution_count": 2,
   "metadata": {},
   "outputs": [
    {
     "data": {
      "text/html": [
       "<div>\n",
       "<style scoped>\n",
       "    .dataframe tbody tr th:only-of-type {\n",
       "        vertical-align: middle;\n",
       "    }\n",
       "\n",
       "    .dataframe tbody tr th {\n",
       "        vertical-align: top;\n",
       "    }\n",
       "\n",
       "    .dataframe thead th {\n",
       "        text-align: right;\n",
       "    }\n",
       "</style>\n",
       "<table border=\"1\" class=\"dataframe\">\n",
       "  <thead>\n",
       "    <tr style=\"text-align: right;\">\n",
       "      <th></th>\n",
       "      <th>Model</th>\n",
       "      <th>Dataset</th>\n",
       "      <th>CM_ACC</th>\n",
       "      <th>Precision</th>\n",
       "      <th>Recall</th>\n",
       "      <th>Total Images</th>\n",
       "    </tr>\n",
       "  </thead>\n",
       "  <tbody>\n",
       "    <tr>\n",
       "      <th>0</th>\n",
       "      <td>VGG-Face</td>\n",
       "      <td>LFW</td>\n",
       "      <td>88.0</td>\n",
       "      <td>100.0</td>\n",
       "      <td>88.0</td>\n",
       "      <td>9164</td>\n",
       "    </tr>\n",
       "    <tr>\n",
       "      <th>1</th>\n",
       "      <td>Facenet</td>\n",
       "      <td>LFW</td>\n",
       "      <td>65.0</td>\n",
       "      <td>100.0</td>\n",
       "      <td>65.0</td>\n",
       "      <td>9164</td>\n",
       "    </tr>\n",
       "    <tr>\n",
       "      <th>2</th>\n",
       "      <td>OpenFace</td>\n",
       "      <td>LFW</td>\n",
       "      <td>1.0</td>\n",
       "      <td>100.0</td>\n",
       "      <td>1.0</td>\n",
       "      <td>9164</td>\n",
       "    </tr>\n",
       "    <tr>\n",
       "      <th>3</th>\n",
       "      <td>DeepFace</td>\n",
       "      <td>LFW</td>\n",
       "      <td>26.0</td>\n",
       "      <td>100.0</td>\n",
       "      <td>26.0</td>\n",
       "      <td>9164</td>\n",
       "    </tr>\n",
       "    <tr>\n",
       "      <th>4</th>\n",
       "      <td>ArcFace</td>\n",
       "      <td>LFW</td>\n",
       "      <td>83.0</td>\n",
       "      <td>100.0</td>\n",
       "      <td>83.0</td>\n",
       "      <td>9164</td>\n",
       "    </tr>\n",
       "    <tr>\n",
       "      <th>5</th>\n",
       "      <td>VGG-Face</td>\n",
       "      <td>LFW-original</td>\n",
       "      <td>85.0</td>\n",
       "      <td>100.0</td>\n",
       "      <td>85.0</td>\n",
       "      <td>5999</td>\n",
       "    </tr>\n",
       "    <tr>\n",
       "      <th>6</th>\n",
       "      <td>Facenet</td>\n",
       "      <td>LFW-original</td>\n",
       "      <td>61.0</td>\n",
       "      <td>100.0</td>\n",
       "      <td>61.0</td>\n",
       "      <td>5999</td>\n",
       "    </tr>\n",
       "    <tr>\n",
       "      <th>7</th>\n",
       "      <td>OpenFace</td>\n",
       "      <td>LFW-original</td>\n",
       "      <td>2.0</td>\n",
       "      <td>100.0</td>\n",
       "      <td>2.0</td>\n",
       "      <td>5999</td>\n",
       "    </tr>\n",
       "    <tr>\n",
       "      <th>8</th>\n",
       "      <td>DeepFace</td>\n",
       "      <td>LFW-original</td>\n",
       "      <td>27.0</td>\n",
       "      <td>100.0</td>\n",
       "      <td>27.0</td>\n",
       "      <td>5999</td>\n",
       "    </tr>\n",
       "  </tbody>\n",
       "</table>\n",
       "</div>"
      ],
      "text/plain": [
       "      Model       Dataset  CM_ACC  Precision  Recall  Total Images\n",
       "0  VGG-Face           LFW    88.0      100.0    88.0          9164\n",
       "1   Facenet           LFW    65.0      100.0    65.0          9164\n",
       "2  OpenFace           LFW     1.0      100.0     1.0          9164\n",
       "3  DeepFace           LFW    26.0      100.0    26.0          9164\n",
       "4   ArcFace           LFW    83.0      100.0    83.0          9164\n",
       "5  VGG-Face  LFW-original    85.0      100.0    85.0          5999\n",
       "6   Facenet  LFW-original    61.0      100.0    61.0          5999\n",
       "7  OpenFace  LFW-original     2.0      100.0     2.0          5999\n",
       "8  DeepFace  LFW-original    27.0      100.0    27.0          5999"
      ]
     },
     "execution_count": 2,
     "metadata": {},
     "output_type": "execute_result"
    }
   ],
   "source": [
    "result_df"
   ]
  },
  {
   "cell_type": "code",
   "execution_count": null,
   "metadata": {},
   "outputs": [],
   "source": [
    "benchmark_df.head()"
   ]
  },
  {
   "cell_type": "markdown",
   "metadata": {},
   "source": [
    "#### Paramater settings:"
   ]
  },
  {
   "cell_type": "code",
   "execution_count": 82,
   "metadata": {},
   "outputs": [],
   "source": [
    "# select a DATASET from data folder:\n",
    "# LFW, LFW-original\n",
    "DATASET = \"LFW\"\n",
    "\n",
    "# select a dataset from additional-data folder:\n",
    "# tzuyu, kpop\n",
    "DATASET_TEST = \"tzuyu\"\n",
    "\n",
    "# select a model to run:\n",
    "# models = [\"VGG-Face\", \"Facenet\", \"Facenet512\", \"OpenFace\", \"DeepFace\", \"DeepID\", \"ArcFace\", \"Dlib\", \"SFace\"]\n",
    "MODEL = \"OpenFace\""
   ]
  },
  {
   "cell_type": "markdown",
   "metadata": {},
   "source": [
    "### Preset the data path directory"
   ]
  },
  {
   "cell_type": "code",
   "execution_count": 83,
   "metadata": {},
   "outputs": [],
   "source": [
    "# Test additional data directory:\n",
    "# dir_path = f\"./additional-data/{DATASET_TEST}\"\n",
    "\n",
    "# Test dataset directory:\n",
    "dir_path = f\"./data/{DATASET}\""
   ]
  },
  {
   "cell_type": "markdown",
   "metadata": {},
   "source": [
    "### Function to perform test with Deepface"
   ]
  },
  {
   "cell_type": "code",
   "execution_count": 91,
   "metadata": {},
   "outputs": [],
   "source": [
    "def deepface_get_accuracy(img_dir_path, model_used):\n",
    "\n",
    "    # store the results of each verification:\n",
    "    tp, tn, fp, fn = 0, 0, 0, 0\n",
    "    image_files = os.listdir(img_dir_path)\n",
    "    truth_images = []    \n",
    "    false_images = []    \n",
    "    \n",
    "    # If the directory has less than 2 images there is no need to test face recognition\n",
    "    if len(image_files) < 2:\n",
    "        return None\n",
    "\n",
    "    else:\n",
    "        # select the first image \n",
    "        image_1 = f\"{img_dir_path}/{image_files[0]}\"\n",
    "\n",
    "        # loop through the other images and verify if they are the same\n",
    "        for img in image_files[1:]:\n",
    "            try:\n",
    "                match = re.search(f\"_\\d.*\\.jpg\", str(img))\n",
    "                # Find all annotation of the files, replace <NAME> with the desired person to test\n",
    "                # get image name to replace the match string with empty string\n",
    "                # NAME_\\d\\.jpg\n",
    "                # NAME_\\d.*\\.jpg\n",
    "                NAME = img.replace(match.group(0), \"\")\n",
    "                \n",
    "            except AttributeError:\n",
    "                print(\"IMAGE: \" + image_1)\n",
    "                exit(1)\n",
    "\n",
    "            \n",
    "            flag = None\n",
    "            if re.search(f\"{NAME}_\\d.*\\.jpg\", str(img)):\n",
    "                truth_images.append(img)\n",
    "                flag = True\n",
    "            else:\n",
    "                false_images.append(img)    \n",
    "                flag = False\n",
    "\n",
    "            try:\n",
    "                img_path = f\"{img_dir_path}/{img}\"\n",
    "                verification = DeepFace.verify(img1_path = image_1, img2_path = img_path, model_name=model_used, enforce_detection=False)\n",
    "                verification_res = verification[\"verified\"]\n",
    "                print(f\"image_1: {image_1}, image: {img_path}, predicted: {verification_res}, flag:{flag}\")\n",
    "                \n",
    "                # Truth Positive if flag and predicted are True:\n",
    "                if flag and verification_res:\n",
    "                    tp += 1\n",
    "                    \n",
    "                # Truth Negative if flag and predicted are False:\n",
    "                elif flag == False and verification_res == False:\n",
    "                    tn += 1\n",
    "\n",
    "                # False Positive if flag is False and predicted is True:\n",
    "                elif flag == False and verification_res == True:\n",
    "                    fp += 1\n",
    "\n",
    "                # False Negative if flag is True and predicted is False:\n",
    "                elif flag == True and verification_res == False:\n",
    "                    fn += 1        \n",
    "\n",
    "            except Exception as e:\n",
    "                print(e)\n",
    "\n",
    "        # confusion matrix\n",
    "        cm_acc = round((tp + tn) / (tp + tn + fp + fn), 2) * 100\n",
    "\n",
    "        return {\"cm_acc\": cm_acc, \"tp\": tp, \"tn\":tn, \"fp\":fp, \"fn\":fn, \"image_files\": len(image_files)-1}\n"
   ]
  },
  {
   "cell_type": "markdown",
   "metadata": {},
   "source": [
    "### Deepface Dataset testing:"
   ]
  },
  {
   "cell_type": "code",
   "execution_count": 84,
   "metadata": {},
   "outputs": [],
   "source": [
    "def deepface_run_dataset(dataset, dataset_path, MODEL):\n",
    "\n",
    "    avg_truth_pos = 0\n",
    "    avg_truth_neg = 0\n",
    "    avg_false_pos = 0\n",
    "    avg_false_neg = 0\n",
    "    total_imgs = 0\n",
    "    \n",
    "    iteration = 0\n",
    "\n",
    "    people = os.listdir(dataset_path)\n",
    "    for plp in people:\n",
    "\n",
    "        img_path = f\"{dataset_path}/{plp}\"\n",
    "        data_res = deepface_get_accuracy(img_path, MODEL)\n",
    "\n",
    "        if data_res != None:\n",
    "            avg_truth_pos += data_res[\"tp\"]\n",
    "            avg_truth_neg += data_res[\"tn\"]\n",
    "            avg_false_pos += data_res[\"fp\"]\n",
    "            avg_false_neg += data_res[\"fn\"]\n",
    "            total_imgs += data_res[\"image_files\"]\n",
    "\n",
    "            iteration += 1\n",
    "            if iteration == 1:\n",
    "                print(img_path)\n",
    "                break\n",
    "\n",
    "    # calculate confusion matrix:\n",
    "    # accuracy:\n",
    "    cm_acc = round((avg_truth_pos + avg_truth_neg) / (avg_truth_pos + avg_truth_neg + avg_false_pos + avg_false_neg), 2) * 100\n",
    "    # precision:\n",
    "    cm_pre = round( (avg_truth_pos) / (avg_truth_pos + avg_false_pos), 2) * 100\n",
    "    # recall: \n",
    "    cm_rec = round( (avg_truth_pos) / (avg_truth_pos + avg_false_neg), 2) * 100\n",
    "\n",
    "\n",
    "    return {\"Model\": MODEL, \"Dataset\":dataset, \"CM_ACC\": cm_acc, \"Precision\":cm_pre, \"Recall\":cm_rec,\"Total Images\": total_imgs},\\\n",
    "         {\"TP\": avg_truth_pos, \"TN\":avg_truth_neg, \"FP\":avg_false_pos, \"FN\":avg_false_neg}"
   ]
  },
  {
   "cell_type": "markdown",
   "metadata": {},
   "source": [
    "## Face recognition Benchmark Test:\n",
    "- using LFW `pairs.csv` "
   ]
  },
  {
   "cell_type": "code",
   "execution_count": null,
   "metadata": {},
   "outputs": [],
   "source": [
    "def deepface_benchmark(dataset, dataset_path, benchmark_df, MODEL):\n",
    "\n",
    "    tp, tn, fp, fn = 0, 0, 0, 0\n",
    "    iteration = 1\n",
    "    match_case = True\n",
    "    for index, row in benchmark_df.iterrows():\n",
    "\n",
    "        if iteration > 300 and match_case:\n",
    "            match_case = False\n",
    "            iteration = 1\n",
    "        elif iteration > 300 and not match_case:\n",
    "            match_case = True\n",
    "            iteration = 1\n",
    "\n",
    "        if match_case:\n",
    "            img_name = row[\"name\"]\n",
    "            img_num_1 = f'{row[\"imagenum1\"]:04d}'\n",
    "            img_num_2 = f'{int(row[\"imagenum2\"]):04d}'\n",
    "\n",
    "            img_path_1 = f'{dataset_path}/{img_name}/{img_name}_{img_num_1}.jpg'\n",
    "            img_path_2 = f'{dataset_path}/{img_name}/{img_name}_{img_num_2}.jpg'\n",
    "            iteration += 1\n",
    "        \n",
    "        elif match_case == False:\n",
    "            img_name_a = row[\"name\"]\n",
    "            img_num_1 = f'{row[\"imagenum1\"]:04d}'\n",
    "            img_name_b = f'{row[\"imagenum2\"]}'\n",
    "            img_num_2 = f'{int(row[3]):04d}'\n",
    "\n",
    "            img_path_1 = f'{dataset_path}/{img_name}/{img_name_a}_{img_num_1}.jpg'\n",
    "            img_path_2 = f'{dataset_path}/{img_name}/{img_name_b}_{img_num_2}.jpg'\n",
    "            iteration += 1    \n",
    "\n",
    "        try:\n",
    "            verification = DeepFace.verify(img1_path = img_path_1, img2_path = img_path_2, model_name=MODEL, enforce_detection=False)\n",
    "            verification_res = verification[\"verified\"]\n",
    "            \n",
    "            # Truth Positive if flag and predicted are True:\n",
    "            if match_case and verification_res:\n",
    "                tp += 1\n",
    "            # Truth Negative if flag and predicted are False:\n",
    "            elif match_case == False and verification_res == False:\n",
    "                tn += 1\n",
    "\n",
    "            # False Positive if flag is False and predicted is True:\n",
    "            elif match_case == False and verification_res == True:\n",
    "                fp += 1\n",
    "\n",
    "            # False Negative if flag is True and predicted is False:\n",
    "            elif match_case == True and verification_res == False:\n",
    "                fn += 1        \n",
    "\n",
    "        except Exception as e:\n",
    "            print(e)\n",
    "\n",
    "    # calculate confusion matrix:\n",
    "    cm_acc = round((tp + tn) / (tp + tn + fp + fn), 2) * 100\n",
    "    # precision:\n",
    "    cm_pre = round( (tp) / (tp + fp), 2) * 100\n",
    "    # recall: \n",
    "    cm_rec = round( (tp) / (tp + fn), 2) * 100\n",
    "\n",
    "\n",
    "    return {\"Model\": MODEL, \"Dataset\":dataset, \"CM_ACC\": cm_acc, \"Precision\":cm_pre, \"Recall\":cm_rec,\"Total Images\": index},\\\n",
    "         {\"TP\": tp, \"TN\":tn, \"FP\":fp, \"FN\":fn}"
   ]
  },
  {
   "cell_type": "markdown",
   "metadata": {},
   "source": [
    "### Execution of the Deepface test:"
   ]
  },
  {
   "cell_type": "code",
   "execution_count": null,
   "metadata": {},
   "outputs": [],
   "source": [
    "# random small testing\n",
    "deepface_res = deepface_get_accuracy(dir_name, MODEL)"
   ]
  },
  {
   "cell_type": "code",
   "execution_count": 85,
   "metadata": {},
   "outputs": [
    {
     "name": "stdout",
     "output_type": "stream",
     "text": [
      "1/1 [==============================] - 0s 23ms/step\n",
      "1/1 [==============================] - 0s 20ms/step\n",
      "image_1: ./data/LFW/Aaron_Peirsol/Aaron_Peirsol_0001.jpg, image: ./data/LFW/Aaron_Peirsol/Aaron_Peirsol_0002.jpg, predicted: True, flag:True\n",
      "1/1 [==============================] - 0s 20ms/step\n",
      "1/1 [==============================] - 0s 24ms/step\n",
      "image_1: ./data/LFW/Aaron_Peirsol/Aaron_Peirsol_0001.jpg, image: ./data/LFW/Aaron_Peirsol/Aaron_Peirsol_0003.jpg, predicted: False, flag:True\n",
      "1/1 [==============================] - 0s 18ms/step\n",
      "1/1 [==============================] - 0s 21ms/step\n",
      "image_1: ./data/LFW/Aaron_Peirsol/Aaron_Peirsol_0001.jpg, image: ./data/LFW/Aaron_Peirsol/Aaron_Peirsol_0004.jpg, predicted: False, flag:True\n",
      "./data/LFW/Aaron_Peirsol\n"
     ]
    }
   ],
   "source": [
    "# manual testing\n",
    "deepface_res_dataset, cm_attr = deepface_run_dataset(DATASET, dir_path, MODEL)"
   ]
  },
  {
   "cell_type": "code",
   "execution_count": null,
   "metadata": {},
   "outputs": [],
   "source": [
    "# benchmark testing\n",
    "deepface_benchmark_res, cm_benchmark = deepface_benchmark(DATASET, dir_path, benchmark_df, MODEL)"
   ]
  },
  {
   "cell_type": "markdown",
   "metadata": {},
   "source": [
    "## Result of the Deepface test:"
   ]
  },
  {
   "cell_type": "markdown",
   "metadata": {},
   "source": [
    "### Small test result:"
   ]
  },
  {
   "cell_type": "code",
   "execution_count": null,
   "metadata": {},
   "outputs": [],
   "source": [
    "cm_acc = deepface_res[\"cm_acc\"]\n",
    "truth_pos = deepface_res[\"tp\"]\n",
    "truth_neg = deepface_res[\"tn\"]\n",
    "false_pos = deepface_res[\"fp\"]\n",
    "false_neg = deepface_res[\"fn\"]    \n",
    "\n",
    "total_imgs = deepface_res[\"image_files\"]\n",
    "\n",
    "print(f\"\\\n",
    "Accuracy of {MODEL} is {cm_acc}% out of {total_imgs} images from {DATASET} dataset.\\n\\\n",
    "===================\\n\\\n",
    "Truth Positive: {truth_pos} \\n\\\n",
    "Truth Negative: {truth_neg} \\n\\\n",
    "False Positive: {false_pos} \\n\\\n",
    "False Negative: {false_neg} \\n\\\n",
    "===================\")"
   ]
  },
  {
   "cell_type": "markdown",
   "metadata": {},
   "source": [
    "### Manual Testing:"
   ]
  },
  {
   "cell_type": "code",
   "execution_count": 86,
   "metadata": {},
   "outputs": [
    {
     "name": "stdout",
     "output_type": "stream",
     "text": [
      "Accuracy of OpenFace is 33.0% out of 3 images from LFW dataset.\n",
      "The Precision is 100.0 and Recall is 33.0\n",
      "===================\n",
      "Truth Positive: 1 \n",
      "Truth Negative: 0 \n",
      "False Positive: 0 \n",
      "False Negative: 2 \n",
      "===================\n"
     ]
    }
   ],
   "source": [
    "# confusion matrix accuracy:\n",
    "cm_acc = deepface_res_dataset[\"CM_ACC\"]\n",
    "cm_pre = deepface_res_dataset[\"Precision\"]\n",
    "cm_rec = deepface_res_dataset[\"Recall\"]\n",
    "truth_pos = cm_attr[\"TP\"]\n",
    "truth_neg = cm_attr[\"TN\"]\n",
    "false_pos = cm_attr[\"FP\"]\n",
    "false_neg = cm_attr[\"FN\"]\n",
    "\n",
    "# total images\n",
    "total_imgs = deepface_res_dataset[\"Total Images\"]\n",
    "\n",
    "print(f\"\\\n",
    "Accuracy of {MODEL} is {cm_acc}% out of {total_imgs} images from {DATASET} dataset.\\n\\\n",
    "The Precision is {cm_pre} and Recall is {cm_rec}\\n\\\n",
    "===================\\n\\\n",
    "Truth Positive: {truth_pos} \\n\\\n",
    "Truth Negative: {truth_neg} \\n\\\n",
    "False Positive: {false_pos} \\n\\\n",
    "False Negative: {false_neg} \\n\\\n",
    "===================\")"
   ]
  },
  {
   "cell_type": "markdown",
   "metadata": {},
   "source": [
    "### Benchmark testing:"
   ]
  },
  {
   "cell_type": "code",
   "execution_count": null,
   "metadata": {},
   "outputs": [],
   "source": [
    "# confusion matrix accuracy:\n",
    "cm_acc = deepface_benchmark_res[\"CM_ACC\"]\n",
    "cm_pre = deepface_benchmark_res[\"Precision\"]\n",
    "cm_rec = deepface_benchmark_res[\"Recall\"]\n",
    "truth_pos = cm_benchmark[\"TP\"]\n",
    "truth_neg = cm_benchmark[\"TN\"]\n",
    "false_pos = cm_benchmark[\"FP\"]\n",
    "false_neg = cm_benchmark[\"FN\"]\n",
    "\n",
    "# total images\n",
    "total_imgs = deepface_benchmark_res[\"Total Images\"]\n",
    "\n",
    "print(f\"\\\n",
    "Accuracy of {MODEL} is {cm_acc}% out of {total_imgs} images from {DATASET} dataset.\\n\\\n",
    "The Precision is {cm_pre} and Recall is {cm_rec}\\n\\\n",
    "===================\\n\\\n",
    "Truth Positive: {truth_pos} \\n\\\n",
    "Truth Negative: {truth_neg} \\n\\\n",
    "False Positive: {false_pos} \\n\\\n",
    "False Negative: {false_neg} \\n\\\n",
    "===================\")"
   ]
  },
  {
   "cell_type": "markdown",
   "metadata": {},
   "source": [
    "# Result Output:"
   ]
  },
  {
   "cell_type": "code",
   "execution_count": 14,
   "metadata": {},
   "outputs": [
    {
     "data": {
      "text/html": [
       "<div>\n",
       "<style scoped>\n",
       "    .dataframe tbody tr th:only-of-type {\n",
       "        vertical-align: middle;\n",
       "    }\n",
       "\n",
       "    .dataframe tbody tr th {\n",
       "        vertical-align: top;\n",
       "    }\n",
       "\n",
       "    .dataframe thead th {\n",
       "        text-align: right;\n",
       "    }\n",
       "</style>\n",
       "<table border=\"1\" class=\"dataframe\">\n",
       "  <thead>\n",
       "    <tr style=\"text-align: right;\">\n",
       "      <th></th>\n",
       "      <th>Model</th>\n",
       "      <th>Dataset</th>\n",
       "      <th>CM_ACC</th>\n",
       "      <th>Precision</th>\n",
       "      <th>Recall</th>\n",
       "      <th>Total Images</th>\n",
       "    </tr>\n",
       "  </thead>\n",
       "  <tbody>\n",
       "    <tr>\n",
       "      <th>0</th>\n",
       "      <td>VGG-Face</td>\n",
       "      <td>LFW</td>\n",
       "      <td>88.0</td>\n",
       "      <td>100.0</td>\n",
       "      <td>88.0</td>\n",
       "      <td>9164</td>\n",
       "    </tr>\n",
       "    <tr>\n",
       "      <th>1</th>\n",
       "      <td>Facenet</td>\n",
       "      <td>LFW</td>\n",
       "      <td>65.0</td>\n",
       "      <td>100.0</td>\n",
       "      <td>65.0</td>\n",
       "      <td>9164</td>\n",
       "    </tr>\n",
       "    <tr>\n",
       "      <th>2</th>\n",
       "      <td>OpenFace</td>\n",
       "      <td>LFW</td>\n",
       "      <td>1.0</td>\n",
       "      <td>100.0</td>\n",
       "      <td>1.0</td>\n",
       "      <td>9164</td>\n",
       "    </tr>\n",
       "    <tr>\n",
       "      <th>3</th>\n",
       "      <td>DeepFace</td>\n",
       "      <td>LFW</td>\n",
       "      <td>26.0</td>\n",
       "      <td>100.0</td>\n",
       "      <td>26.0</td>\n",
       "      <td>9164</td>\n",
       "    </tr>\n",
       "    <tr>\n",
       "      <th>4</th>\n",
       "      <td>ArcFace</td>\n",
       "      <td>LFW</td>\n",
       "      <td>83.0</td>\n",
       "      <td>100.0</td>\n",
       "      <td>83.0</td>\n",
       "      <td>9164</td>\n",
       "    </tr>\n",
       "    <tr>\n",
       "      <th>5</th>\n",
       "      <td>VGG-Face</td>\n",
       "      <td>LFW-original</td>\n",
       "      <td>85.0</td>\n",
       "      <td>100.0</td>\n",
       "      <td>85.0</td>\n",
       "      <td>5999</td>\n",
       "    </tr>\n",
       "    <tr>\n",
       "      <th>6</th>\n",
       "      <td>Facenet</td>\n",
       "      <td>LFW-original</td>\n",
       "      <td>61.0</td>\n",
       "      <td>100.0</td>\n",
       "      <td>61.0</td>\n",
       "      <td>5999</td>\n",
       "    </tr>\n",
       "    <tr>\n",
       "      <th>7</th>\n",
       "      <td>OpenFace</td>\n",
       "      <td>LFW-original</td>\n",
       "      <td>2.0</td>\n",
       "      <td>100.0</td>\n",
       "      <td>2.0</td>\n",
       "      <td>5999</td>\n",
       "    </tr>\n",
       "    <tr>\n",
       "      <th>8</th>\n",
       "      <td>DeepFace</td>\n",
       "      <td>LFW-original</td>\n",
       "      <td>27.0</td>\n",
       "      <td>100.0</td>\n",
       "      <td>27.0</td>\n",
       "      <td>5999</td>\n",
       "    </tr>\n",
       "    <tr>\n",
       "      <th>9</th>\n",
       "      <td>Facenet</td>\n",
       "      <td>LFW</td>\n",
       "      <td>65.0</td>\n",
       "      <td>100.0</td>\n",
       "      <td>65.0</td>\n",
       "      <td>7484</td>\n",
       "    </tr>\n",
       "  </tbody>\n",
       "</table>\n",
       "</div>"
      ],
      "text/plain": [
       "      Model       Dataset  CM_ACC  Precision  Recall  Total Images\n",
       "0  VGG-Face           LFW    88.0      100.0    88.0          9164\n",
       "1   Facenet           LFW    65.0      100.0    65.0          9164\n",
       "2  OpenFace           LFW     1.0      100.0     1.0          9164\n",
       "3  DeepFace           LFW    26.0      100.0    26.0          9164\n",
       "4   ArcFace           LFW    83.0      100.0    83.0          9164\n",
       "5  VGG-Face  LFW-original    85.0      100.0    85.0          5999\n",
       "6   Facenet  LFW-original    61.0      100.0    61.0          5999\n",
       "7  OpenFace  LFW-original     2.0      100.0     2.0          5999\n",
       "8  DeepFace  LFW-original    27.0      100.0    27.0          5999\n",
       "9   Facenet           LFW    65.0      100.0    65.0          7484"
      ]
     },
     "execution_count": 14,
     "metadata": {},
     "output_type": "execute_result"
    }
   ],
   "source": [
    "# result_df_new = pd.DataFrame([deepface_benchmark_res])\n",
    "result_df_new = pd.DataFrame([deepface_res_dataset])\n",
    "\n",
    "frames = [result_df, result_df_new]\n",
    "result_df = pd.concat(frames)\n",
    "\n",
    "result_df = result_df.reset_index()\n",
    "result_df.drop(columns=['index'], inplace=True)\n",
    "result_df"
   ]
  },
  {
   "cell_type": "code",
   "execution_count": null,
   "metadata": {},
   "outputs": [],
   "source": [
    "# Write results to csv file\n",
    "result_df.to_csv(\"./result/result_debface.csv\", index=False)"
   ]
  },
  {
   "cell_type": "markdown",
   "metadata": {},
   "source": [
    "### Etc testing"
   ]
  },
  {
   "cell_type": "markdown",
   "metadata": {},
   "source": [
    "### Param settings"
   ]
  },
  {
   "cell_type": "code",
   "execution_count": 101,
   "metadata": {},
   "outputs": [],
   "source": [
    "IMG_1 = f\"./data/LFW/Aaron_Peirsol/Aaron_Peirsol_0001.jpg\"\n",
    "IMG_2 = f\"./data/LFW/Aaron_Peirsol/Aaron_Peirsol_0002.jpg\"\n",
    "IMG_3 = f\"./data/LFW/Aaron_Peirsol/Aaron_Peirsol_0003.jpg\"\n",
    "IMG_4 = f\"./data/LFW/Aaron_Peirsol/Aaron_Peirsol_0004.jpg\"\n",
    "\n",
    "IMGS = [IMG_2, IMG_3, IMG_4]\n",
    "\n",
    "MODEL_TEST = 'OpenFace'"
   ]
  },
  {
   "cell_type": "code",
   "execution_count": 123,
   "metadata": {},
   "outputs": [
    {
     "name": "stdout",
     "output_type": "stream",
     "text": [
      "1/1 [==============================] - 0s 20ms/step\n",
      "1/1 [==============================] - 0s 23ms/step\n",
      "Image_1: ./data/LFW/Aaron_Peirsol/Aaron_Peirsol_0001.jpg, Image_2: ./data/LFW/Aaron_Peirsol/Aaron_Peirsol_0002.jpg, predicted: True\n",
      "1/1 [==============================] - 0s 21ms/step\n",
      "1/1 [==============================] - 0s 20ms/step\n",
      "Image_1: ./data/LFW/Aaron_Peirsol/Aaron_Peirsol_0001.jpg, Image_2: ./data/LFW/Aaron_Peirsol/Aaron_Peirsol_0003.jpg, predicted: False\n",
      "1/1 [==============================] - 0s 19ms/step\n",
      "1/1 [==============================] - 0s 18ms/step\n",
      "Image_1: ./data/LFW/Aaron_Peirsol/Aaron_Peirsol_0001.jpg, Image_2: ./data/LFW/Aaron_Peirsol/Aaron_Peirsol_0004.jpg, predicted: False\n"
     ]
    }
   ],
   "source": [
    "for image in IMGS:\n",
    "    verification = None\n",
    "    verification = DeepFace.verify(img1_path = IMG_1, img2_path = image, model_name=MODEL_TEST, enforce_detection=False)\n",
    "    verification_res = verification[\"verified\"]\n",
    "    print(f\"Image_1: {IMG_1}, Image_2: {image}, predicted: {verification_res}\")"
   ]
  },
  {
   "cell_type": "code",
   "execution_count": 112,
   "metadata": {},
   "outputs": [
    {
     "name": "stdout",
     "output_type": "stream",
     "text": [
      "1/1 [==============================] - 0s 19ms/step\n",
      "1/1 [==============================] - 0s 19ms/step\n",
      "Image_1: ./data/LFW/Aaron_Peirsol/Aaron_Peirsol_0001.jpg, Image_2: ./data/LFW/Aaron_Peirsol/Aaron_Peirsol_0002.jpg, predicted: True\n",
      "1/1 [==============================] - 0s 20ms/step\n",
      "1/1 [==============================] - 0s 18ms/step\n",
      "Image_1: ./data/LFW/Aaron_Peirsol/Aaron_Peirsol_0001.jpg, Image_2: ./data/LFW/Aaron_Peirsol/Aaron_Peirsol_0003.jpg, predicted: False\n",
      "1/1 [==============================] - 0s 20ms/step\n",
      "1/1 [==============================] - 0s 20ms/step\n",
      "Image_1: ./data/LFW/Aaron_Peirsol/Aaron_Peirsol_0001.jpg, Image_2: ./data/LFW/Aaron_Peirsol/Aaron_Peirsol_0004.jpg, predicted: False\n"
     ]
    }
   ],
   "source": []
  },
  {
   "cell_type": "code",
   "execution_count": 120,
   "metadata": {},
   "outputs": [
    {
     "name": "stdout",
     "output_type": "stream",
     "text": [
      "1/1 [==============================] - 0s 20ms/step\n",
      "1/1 [==============================] - 0s 20ms/step\n",
      "Image_1: ./data/LFW/Aaron_Peirsol/Aaron_Peirsol_0001.jpg, Image_2: ./data/LFW/Aaron_Peirsol/Aaron_Peirsol_0002.jpg, predicted: True\n"
     ]
    }
   ],
   "source": [
    "verification = DeepFace.verify(img1_path = IMG_1, img2_path = IMG_2, model_name=MODEL_TEST, enforce_detection=False)\n",
    "verification_res = verification[\"verified\"]\n",
    "print(f\"Image_1: {IMG_1}, Image_2: {IMG_2}, predicted: {verification_res}\")"
   ]
  },
  {
   "cell_type": "code",
   "execution_count": 121,
   "metadata": {},
   "outputs": [
    {
     "name": "stdout",
     "output_type": "stream",
     "text": [
      "1/1 [==============================] - 0s 24ms/step\n",
      "1/1 [==============================] - 0s 19ms/step\n",
      "Image_1: ./data/LFW/Aaron_Peirsol/Aaron_Peirsol_0001.jpg, Image_2: ./data/LFW/Aaron_Peirsol/Aaron_Peirsol_0003.jpg, predicted: False\n"
     ]
    }
   ],
   "source": [
    "verification = DeepFace.verify(img1_path = IMG_1, img2_path = IMG_3, model_name=MODEL_TEST, enforce_detection=False)\n",
    "verification_res = verification[\"verified\"]\n",
    "print(f\"Image_1: {IMG_1}, Image_2: {IMG_3}, predicted: {verification_res}\")"
   ]
  },
  {
   "cell_type": "code",
   "execution_count": 122,
   "metadata": {},
   "outputs": [
    {
     "name": "stdout",
     "output_type": "stream",
     "text": [
      "1/1 [==============================] - 0s 20ms/step\n",
      "1/1 [==============================] - 0s 18ms/step\n",
      "Image_1: ./data/LFW/Aaron_Peirsol/Aaron_Peirsol_0001.jpg, Image_2: ./data/LFW/Aaron_Peirsol/Aaron_Peirsol_0004.jpg, predicted: False\n"
     ]
    }
   ],
   "source": [
    "verification = DeepFace.verify(img1_path = IMG_1, img2_path = IMG_4, model_name=MODEL_TEST, enforce_detection=False)\n",
    "verification_res = verification[\"verified\"]\n",
    "print(f\"Image_1: {IMG_1}, Image_2: {IMG_4}, predicted: {verification_res}\")"
   ]
  },
  {
   "cell_type": "code",
   "execution_count": null,
   "metadata": {},
   "outputs": [],
   "source": []
  }
 ],
 "metadata": {
  "kernelspec": {
   "display_name": "Python 3.9.12 ('DeepfaceVE')",
   "language": "python",
   "name": "python3"
  },
  "language_info": {
   "codemirror_mode": {
    "name": "ipython",
    "version": 3
   },
   "file_extension": ".py",
   "mimetype": "text/x-python",
   "name": "python",
   "nbconvert_exporter": "python",
   "pygments_lexer": "ipython3",
   "version": "3.9.12"
  },
  "orig_nbformat": 4,
  "vscode": {
   "interpreter": {
    "hash": "81a04c2f423b520ddc272671c1bc5381e7218e0e6f14c84e06e4ed043ef6ecc3"
   }
  }
 },
 "nbformat": 4,
 "nbformat_minor": 2
}
